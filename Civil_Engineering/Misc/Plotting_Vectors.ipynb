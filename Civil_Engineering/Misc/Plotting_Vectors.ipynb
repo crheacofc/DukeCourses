{
 "cells": [
  {
   "cell_type": "code",
   "execution_count": 1,
   "metadata": {
    "collapsed": false
   },
   "outputs": [],
   "source": [
    "from matplotlib.pyplot import cm\n",
    "import matplotlib.pyplot as plt\n",
    "import numpy as np\n",
    "from math import *\n",
    "#%matplotlib inline\n",
    "%matplotlib qt"
   ]
  },
  {
   "cell_type": "markdown",
   "metadata": {},
   "source": [
    "# Plot function"
   ]
  },
  {
   "cell_type": "code",
   "execution_count": 2,
   "metadata": {
    "collapsed": false
   },
   "outputs": [
    {
     "data": {
      "image/png": "[encoded data removed]",
      "text/plain": [
       "<matplotlib.figure.Figure at 0x1029dcfd0>"
      ]
     },
     "metadata": {},
     "output_type": "display_data"
    }
   ],
   "source": [
    "f = lambda x: e**(-x)\n",
    "def plotfunc(f,a,b,n):\n",
    "    x = np.linspace(a,b,n)\n",
    "    y= []\n",
    "    for i in x:\n",
    "        y.append(f(i))\n",
    "    return x,y\n",
    "\n",
    "def main(a,b,n,hold_val):\n",
    "    x,y = plotfunc(f,a,b,n) \n",
    "    plt.plot(x,y,hold=hold_val)\n",
    "    plt.grid()\n",
    "main(-10*pi,10*pi,100,True)"
   ]
  },
  {
   "cell_type": "markdown",
   "metadata": {},
   "source": [
    "# Plot Vector Fields"
   ]
  },
  {
   "cell_type": "code",
   "execution_count": 2,
   "metadata": {
    "collapsed": true
   },
   "outputs": [],
   "source": [
    "Y, X = np.mgrid[-3:3:15j, -3:3:15j]\n",
    "U = -1 - np.cos(X**2 + Y)\n",
    "V = 1 + X - Y"
   ]
  },
  {
   "cell_type": "code",
   "execution_count": 3,
   "metadata": {
    "collapsed": false
   },
   "outputs": [],
   "source": [
    "plot = plt.figure()\n",
    "speed = np.sqrt(U**2 + V**2)\n",
    "plt.streamplot(X, Y, U, V,          # data\n",
    "               color=speed,         # array that determines the colour\n",
    "               cmap=cm.cool,        # colour map\n",
    "               linewidth=2,         # line thickness\n",
    "               arrowstyle='->',     # arrow style\n",
    "               arrowsize=1.5)       # arrow size\n",
    "\n",
    "plt.colorbar()                      # add colour bar on the right\n",
    "\n",
    "plt.title('Stream Plot, Dynamic Colour')\n",
    "plt.show(plot)                     # display the plot"
   ]
  },
  {
   "cell_type": "code",
   "execution_count": 4,
   "metadata": {
    "collapsed": false
   },
   "outputs": [],
   "source": [
    "UN = U/speed\n",
    "VN = V/speed\n",
    "plot1 = plt.figure()\n",
    "plt.quiver(X, Y, UN, VN,        # data\n",
    "           U,                   # colour the arrows based on this array\n",
    "           cmap=cm.seismic,     # colour map\n",
    "           headlength=7)        # length of the arrows\n",
    "\n",
    "plt.colorbar()                  # adds the colour bar\n",
    "\n",
    "plt.title('Quive Plot, Dynamic Colours')\n",
    "plt.show(plot1)                 # display the plot"
   ]
  },
  {
   "cell_type": "markdown",
   "metadata": {},
   "source": [
    "# 3D plotting\n"
   ]
  },
  {
   "cell_type": "code",
   "execution_count": 5,
   "metadata": {
    "collapsed": false
   },
   "outputs": [],
   "source": [
    "from mpl_toolkits.mplot3d import axes3d \n",
    "import matplotlib.pyplot as plt\n",
    "from math import *"
   ]
  },
  {
   "cell_type": "code",
   "execution_count": 6,
   "metadata": {
    "collapsed": false
   },
   "outputs": [],
   "source": [
    "# Setup the 3D plot:\n",
    "fig = plt.figure()\n",
    "ax = fig.gca(projection='3d')\n",
    "\n",
    "#define function of interest\n",
    "\n",
    "def f(x,y):\n",
    "    sin(x)**2+sin(y)**2\n",
    "    \n",
    "    \n",
    "def plotfunc(f,a,b,n):\n",
    "    x = np.linspace(-pi, pi, 30)\n",
    "    y = np.linspace(-pi, pi, 30)\n",
    "# Create Cartesian grid:\n",
    "    X, Y = np.meshgrid(x, y)\n",
    "    return X,Y\n",
    "# Calculate values at grid points:\n",
    "def main(a,b,n,numcontours):\n",
    "    X,Y = plotfunc(f,a,b,n)\n",
    "    #Z = np.sin(X)**2+np.sin(Y)**2 # Be sure to redefine Z as f!!!!\n",
    "    Z = X+Y+3\n",
    "    ax.plot_surface(X, Y, Z, rstride=1, cstride=1)\n",
    "plt.hold(True)\n",
    "main(0,10,100,10)"
   ]
  },
  {
   "cell_type": "code",
   "execution_count": 10,
   "metadata": {
    "collapsed": true
   },
   "outputs": [],
   "source": []
  },
  {
   "cell_type": "code",
   "execution_count": null,
   "metadata": {
    "collapsed": true
   },
   "outputs": [],
   "source": []
  }
 ],
 "metadata": {
  "anaconda-cloud": {},
  "kernelspec": {
   "display_name": "Python [conda root]",
   "language": "python",
   "name": "conda-root-py"
  },
  "language_info": {
   "codemirror_mode": {
    "name": "ipython",
    "version": 2
   },
   "file_extension": ".py",
   "mimetype": "text/x-python",
   "name": "python",
   "nbconvert_exporter": "python",
   "pygments_lexer": "ipython2",
   "version": "2.7.12"
  }
 },
 "nbformat": 4,
 "nbformat_minor": 1
}
